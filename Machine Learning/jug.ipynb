{
 "cells": [
  {
   "cell_type": "code",
   "execution_count": 20,
   "metadata": {},
   "outputs": [
    {
     "name": "stdout",
     "output_type": "stream",
     "text": [
      "[(0, 0), (4, 0), (4, 3), (0, 3), (3, 0), (3, 3), (4, 2), (0, 2), (2, 0)]\n",
      "[(0, 0), (4, 0), (1, 3), (1, 0), (0, 1), (4, 1), (2, 3)]\n"
     ]
    }
   ],
   "source": [
    "def Jug(curr, path, all_paths, vis):\n",
    "    L, R = curr\n",
    "\n",
    "    if L == 2:\n",
    "        all_paths.append(path.copy())\n",
    "        return\n",
    "\n",
    "    succ = [(4, R), (L, 3), (0, R), (L, 0)]\n",
    "\n",
    "    # pour second Jug into First\n",
    "    sp_l = 4 - L\n",
    "    if sp_l >= R:\n",
    "        succ.append((L + R, 0))\n",
    "    else:\n",
    "        succ.append((4, R - sp_l))\n",
    "\n",
    "    # pour into the second jug\n",
    "    sp_r = 3 - R\n",
    "    if sp_r >= L:\n",
    "        succ.append((0, L + R))\n",
    "    else:\n",
    "        succ.append((L - sp_r, 3))\n",
    "\n",
    "    for s in succ:\n",
    "        if s not in vis:\n",
    "            path.append(s)\n",
    "            vis.add(s)\n",
    "            Jug(s, path, all_paths, vis)\n",
    "            path.pop()\n",
    "\n",
    "# Initialize variables\n",
    "vis = set()\n",
    "all_paths = []\n",
    "\n",
    "# Start the DFS\n",
    "Jug((0, 0), [(0, 0)], all_paths, vis)\n",
    "\n",
    "# Display all paths\n",
    "for path in all_paths:\n",
    "    print(path)\n"
   ]
  }
 ],
 "metadata": {
  "kernelspec": {
   "display_name": "Machine Learning",
   "language": "python",
   "name": "python3"
  },
  "language_info": {
   "codemirror_mode": {
    "name": "ipython",
    "version": 3
   },
   "file_extension": ".py",
   "mimetype": "text/x-python",
   "name": "python",
   "nbconvert_exporter": "python",
   "pygments_lexer": "ipython3",
   "version": "3.11.4"
  }
 },
 "nbformat": 4,
 "nbformat_minor": 2
}
