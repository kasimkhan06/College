{
 "cells": [
  {
   "cell_type": "code",
   "execution_count": 25,
   "metadata": {},
   "outputs": [],
   "source": [
    "from queue import Queue"
   ]
  },
  {
   "cell_type": "code",
   "execution_count": 26,
   "metadata": {},
   "outputs": [],
   "source": [
    "def Successor(state):\n",
    "    M , C , B = state\n",
    "    if(B == 0):\n",
    "        return [(M , C-1 , 1) , (M , C-2 , 1) , (M-1 , C , 1) , (M-1 , C-1 , 1) , (M-2 , C , 1)]\n",
    "    if(B == 1):\n",
    "        return [(M , C+1 , 0) , (M , C+2 , 0) , (M+1 , C , 0) , (M+1 , C+1 , 0) , (M+2 , C , 0)]"
   ]
  },
  {
   "cell_type": "code",
   "execution_count": 27,
   "metadata": {},
   "outputs": [],
   "source": [
    "def save_path(m , initial , final):\n",
    "    path = []\n",
    "    start = final\n",
    "    while(True):\n",
    "        path.insert(0 , start)\n",
    "        if(start == initial):\n",
    "            break\n",
    "        start = m[start]\n",
    "    return path"
   ]
  },
  {
   "cell_type": "code",
   "execution_count": 28,
   "metadata": {},
   "outputs": [],
   "source": [
    "def valid(state):\n",
    "    M , C , B = state\n",
    "    #checking left side of the bank for the constraints\n",
    "    if((M >= 0 and C >= 0) and (M <=3 and C<=3)):\n",
    "        if(M > 0 and M < C):\n",
    "            return False\n",
    "    else:\n",
    "        return False\n",
    "    \n",
    "    #checking for right side of the bank\n",
    "    if((3 - M) >= 0 and (3 - C) >= 0):\n",
    "        if((3 - M) > 0 and (3 - M) < (3 - C)):\n",
    "            return False\n",
    "    else:\n",
    "        return False\n",
    "    return True"
   ]
  },
  {
   "cell_type": "code",
   "execution_count": 29,
   "metadata": {},
   "outputs": [],
   "source": [
    "def MissionaryCanibal():\n",
    "    #initial configuration\n",
    "    path = []\n",
    "    initial = (3 , 3 , 0)\n",
    "    final  = (0 , 0 , 1)\n",
    "    q = Queue()\n",
    "    m = {() : ()} #a map to store parent of every state so that we can get the path\n",
    "    visited = set()\n",
    "\n",
    "    q.put(initial)\n",
    "    visited.add(initial)\n",
    "\n",
    "    while not q.empty():\n",
    "        #curr state\n",
    "        curr = q.get()\n",
    "        if(curr == final):\n",
    "            print(\"I found the solution\")\n",
    "            temp = save_path(m , initial , final)\n",
    "            path.append(temp)\n",
    "\n",
    "        #check its successor or the children node for the curr state\n",
    "        successors = Successor(curr)\n",
    "        for succ in successors:\n",
    "            if(succ not in visited and valid(succ)):\n",
    "                q.put(succ)\n",
    "                visited.add(succ)\n",
    "                m[succ] = curr\n",
    "\n",
    "    return path\n",
    "        "
   ]
  },
  {
   "cell_type": "code",
   "execution_count": 30,
   "metadata": {},
   "outputs": [
    {
     "name": "stdout",
     "output_type": "stream",
     "text": [
      "I found the solution\n",
      "[[(3, 3, 0), (3, 1, 1), (3, 2, 0), (3, 0, 1), (3, 1, 0), (1, 1, 1), (2, 2, 0), (0, 2, 1), (0, 3, 0), (0, 1, 1), (0, 2, 0), (0, 0, 1)]]\n"
     ]
    }
   ],
   "source": [
    "print(MissionaryCanibal())"
   ]
  }
 ],
 "metadata": {
  "kernelspec": {
   "display_name": "Python 3",
   "language": "python",
   "name": "python3"
  },
  "language_info": {
   "codemirror_mode": {
    "name": "ipython",
    "version": 3
   },
   "file_extension": ".py",
   "mimetype": "text/x-python",
   "name": "python",
   "nbconvert_exporter": "python",
   "pygments_lexer": "ipython3",
   "version": "3.11.4"
  },
  "orig_nbformat": 4
 },
 "nbformat": 4,
 "nbformat_minor": 2
}
